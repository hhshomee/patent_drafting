{
  "cells": [
    {
      "cell_type": "code",
      "execution_count": null,
      "metadata": {
        "id": "IsEBiPoQ2bmT",
        "colab": {
          "base_uri": "https://localhost:8080/",
          "height": 89
        },
        "outputId": "f88320cc-0100-42bd-9155-f2bd623939ef"
      },
      "outputs": [
        {
          "output_type": "stream",
          "name": "stdout",
          "text": [
            "**Abstract:**\n",
            "\n",
            "The present invention relates to a massaging tool for pets, which is configured to provide a comfortable and relaxing massage experience for the animal. The massaging tool comprises a grip body with a branched supporting part having a first supporting part and a second supporting part, each of which supports a cylindrical roller body. The roller bodies rotate freely and are covered by detachable cylindrical cover belts made of an elastic resin. The belts feature convex parts for massaging the pet's fur and skin. The assembly includes lids and engaging caps to hold the cover belts in place. The elastically deformable supporting parts are designed to conform to the pet's body, while the protrusion parts on the supporting parts and roller bodies ensure rotatability and durability. This massaging tool is an effective and convenient way to promote relaxation and well-being in pets.\n"
          ]
        }
      ],
      "source": [
        "import os\n",
        "import google.generativeai as genai\n",
        "API_KEY = \"##########\"\n",
        "\n",
        "genai.configure(api_key=API_KEY)\n",
        "model = genai.GenerativeModel('gemini-1.0-pro')"
      ]
    },
    {
      "cell_type": "code",
      "execution_count": null,
      "metadata": {
        "id": "i6K3tXTM8Kb0"
      },
      "outputs": [],
      "source": [
        "import pandas as pd\n",
        "\n",
        "df = pd.read_csv('/content/patent_data_A61B.csv')"
      ]
    },
    {
      "cell_type": "code",
      "execution_count": null,
      "metadata": {
        "id": "4_d4tB-F7_mS"
      },
      "outputs": [],
      "source": [
        "import time\n",
        "\n",
        "df['generated_abstract'] = pd.NA\n",
        "def generate_abstract(claim_text):\n",
        "    try:\n",
        "\n",
        "        prompt = f\"Given the patent generate the abstract. Claim: {claim_text}\"\n",
        "        response_iter = model.generate_content(prompt)\n",
        "        abstract =response_iter.text\n",
        "        return abstract\n",
        "    except Exception as e:\n",
        "        print(\"An error occurred:\", e)\n",
        "        return None\n",
        "\n",
        "df1.iloc[0:0].to_csv('Generated_Abstract_A61B_gemini.csv', index=False)\n",
        "\n",
        "for index, row in df1.iterrows():\n",
        "    print(index)\n",
        "    generated_abstract = generate_abstract(row['claim_text'])\n",
        "    # added sleep time to avoid the error 'Resource has been exhausted (e.g. check quota)'. GEMINI has a fixed token request per minute.\n",
        "    time.sleep(10)\n",
        "    print(generated_abstract)\n",
        "    df1.at[index, 'generated_abstract'] = generated_abstract if isinstance(generated_abstract, str) else 'Error or empty'\n",
        "    df1.iloc[[df1.index.get_loc(index)]].to_csv('Generated_Abstract_A61N_gemini.csv', mode='a', header=False, index=False)"
      ]
    }
  ],
  "metadata": {
    "accelerator": "GPU",
    "colab": {
      "gpuType": "T4",
      "provenance": []
    },
    "kernelspec": {
      "display_name": "Python 3",
      "name": "python3"
    },
    "language_info": {
      "name": "python"
    }
  },
  "nbformat": 4,
  "nbformat_minor": 0
}